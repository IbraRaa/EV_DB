{
 "cells": [
  {
   "cell_type": "code",
   "execution_count": 1,
   "id": "43455753-246d-4197-82c2-e2fb16794530",
   "metadata": {},
   "outputs": [],
   "source": [
    "from bs4 import BeautifulSoup\n",
    "import csv\n",
    "import requests\n",
    "from itertools import zip_longest "
   ]
  },
  {
   "cell_type": "code",
   "execution_count": 2,
   "id": "808a576c-59ce-4285-8ad4-17e23f8fbbb4",
   "metadata": {},
   "outputs": [],
   "source": [
    "car_names = []\n",
    "ranges = []\n",
    "batterys = []\n",
    "efficiencys = []\n",
    "towings = []\n",
    "fast_chargings = []\n",
    "weights = []\n",
    "zero_hunderd = []\n",
    "stop_ranges = []\n",
    "price_over_renges = []\n",
    "cargo_vols = []\n",
    "ger_prices = []\n",
    "nl_prices = []\n",
    "uk_prices = []\n",
    "num_sets = []"
   ]
  },
  {
   "cell_type": "code",
   "execution_count": 3,
   "id": "ea96349b-0622-4c00-ae69-d51fefd30576",
   "metadata": {},
   "outputs": [],
   "source": [
    "result = requests.get(\"https://ev-database.org/#group=vehicle-group&rs-pr=10000_100000&rs-er=0_1000&rs-ld=0_1000&rs-ac=2_23&rs-dcfc=0_300&rs-ub=10_200&rs-tw=0_2500&rs-ef=100_350&rs-sa=-1_5&rs-w=1000_3500&rs-c=0_5000&rs-y=2010_2030&s=1&p=0-50\")"
   ]
  },
  {
   "cell_type": "code",
   "execution_count": 4,
   "id": "f6f7e4ce-6a47-4ce4-ab06-1a87031ec71a",
   "metadata": {},
   "outputs": [],
   "source": [
    "src = result.content"
   ]
  },
  {
   "cell_type": "code",
   "execution_count": 7,
   "id": "e093ec44-32f4-4199-b875-dffb1c5d23c1",
   "metadata": {},
   "outputs": [],
   "source": [
    "soup = BeautifulSoup(src , \"lxml\")"
   ]
  },
  {
   "cell_type": "code",
   "execution_count": 8,
   "id": "40aab933-ac80-42fa-a400-095ed181dd5b",
   "metadata": {},
   "outputs": [],
   "source": [
    "car_name = soup.find_all(\"a\" , {\"class\" : \"title\"})\n",
    "\n",
    "rangez = soup.find_all(\"span\" , {\"class\" : \"erange_real\"})\n",
    "\n",
    "battery = soup.find_all(\"span\" , {\"class\" : \"battery_p\"})\n",
    "\n",
    "efficiency = soup.find_all(\"span\" , {\"class\" : \"efficiency\"})\n",
    "\n",
    "towing = soup.find_all(\"span\" , {\"class\" : \"towweight_p\"})\n",
    "\n",
    "fast_charging = soup.find_all(\"span\" , {\"class\" : \"fastcharge_speed_print\"})\n",
    "\n",
    "weight = soup.find_all(\"span\" , {\"class\" : \"weight_p\"})\n",
    "\n",
    "zero_to_hunderd = soup.find_all(\"span\" , {\"class\" : \"acceleration_p\"})\n",
    "\n",
    "stop_range = soup.find_all(\"span\" , {\"class\" : \"long_distance_total\"})\n",
    "\n",
    "price_over_renge = soup.find_all(\"span\" , {\"class\" : \"priceperrange_p\"})\n",
    "\n",
    "cargo_vol = soup.find_all(\"span\" , {\"class\" : \"cargo\"})\n",
    "\n",
    "ger_price = soup.find_all(\"span\" , {\"class\" : \"country_de\"})\n",
    "\n",
    "nl_price = soup.find_all(\"span\" , {\"class\" : \"country_nl\"})\n",
    "\n",
    "uk_price = soup.find_all(\"span\" , {\"class\" : \"country_uk\"})\n",
    "\n",
    "num_set = soup.find_all(\"span\" , {\"data-tooltip\" : \"Number of seats\"})"
   ]
  },
  {
   "cell_type": "code",
   "execution_count": 9,
   "id": "a11ec43b-840a-4f18-89b9-7e81a6afe577",
   "metadata": {},
   "outputs": [],
   "source": [
    "for i in range(len(car_name)):\n",
    "    car_names.append(car_name[i].text)\n",
    "    ranges.append(rangez[i].text)\n",
    "    batterys.append(battery[i].text)\n",
    "    efficiencys.append(efficiency[i].text)\n",
    "    towings.append(towing[i].text)\n",
    "    fast_chargings.append(fast_charging[i].text)\n",
    "    weights.append(weight[i].text)\n",
    "    zero_hunderd.append(zero_to_hunderd[i].text)\n",
    "    stop_ranges.append(stop_range[i].text)\n",
    "    price_over_renges.append(price_over_renge[i].text)\n",
    "    cargo_vols.append(cargo_vol[i].text)\n",
    "    ger_prices.append(ger_price[i].text)\n",
    "    nl_prices.append(nl_price[i].text)\n",
    "    uk_prices.append(uk_price[i].text)\n",
    "    num_sets.append(num_set[i].text)"
   ]
  },
  {
   "cell_type": "code",
   "execution_count": 10,
   "id": "d7695bb1-fdfb-4b22-88e7-78c7112e07a6",
   "metadata": {},
   "outputs": [],
   "source": [
    "file_lists =[\n",
    "    car_names, ranges, batterys, efficiencys, towings, \n",
    "    fast_chargings, weights, zero_hunderd, stop_ranges, \n",
    "    price_over_renges, cargo_vols, ger_prices, nl_prices, \n",
    "    uk_prices\n",
    "]\n",
    "\n",
    "exported = zip_longest(*file_lists)\n",
    "\n",
    "with open(r\"C:\\Users\\Hema\\Desktop\\ew\\ZERO\\EV_DB.csv\" , 'w') as myfile :\n",
    "    wr = csv.writer(myfile)\n",
    "    wr.writerow([\n",
    "    \"Car Name\", \"Range (km)\", \"Battery (kWh)\", \"Efficiency (Wh/km)\", \"Towing Capacity (kg)\", \n",
    "    \"Fast Charging Speed (kW)\", \"Weight (kg)\", \"0-100 km/h (s)\", \"Stop Range (km)\", \n",
    "    \"Price per Range (€)\", \"Cargo Volume (L)\", \"German Price (€)\", \"Dutch Price (€)\", \n",
    "    \"UK Price (£)\"\n",
    "    ])\n",
    "    wr.writerows(exported)"
   ]
  },
  {
   "cell_type": "code",
   "execution_count": null,
   "id": "1e721938-8462-4eb5-8758-e9177b69ffda",
   "metadata": {},
   "outputs": [],
   "source": []
  }
 ],
 "metadata": {
  "kernelspec": {
   "display_name": "ss",
   "language": "python",
   "name": "ss"
  },
  "language_info": {
   "codemirror_mode": {
    "name": "ipython",
    "version": 3
   },
   "file_extension": ".py",
   "mimetype": "text/x-python",
   "name": "python",
   "nbconvert_exporter": "python",
   "pygments_lexer": "ipython3",
   "version": "3.12.4"
  }
 },
 "nbformat": 4,
 "nbformat_minor": 5
}
